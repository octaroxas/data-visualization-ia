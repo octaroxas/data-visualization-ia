{
 "cells": [
  {
   "cell_type": "code",
   "execution_count": 2,
   "metadata": {},
   "outputs": [
    {
     "ename": "ModuleNotFoundError",
     "evalue": "No module named 'pandas'",
     "output_type": "error",
     "traceback": [
      "\u001b[0;31m---------------------------------------------------------------------------\u001b[0m",
      "\u001b[0;31mModuleNotFoundError\u001b[0m                       Traceback (most recent call last)",
      "\u001b[0;32m/var/folders/wb/pjrd4jk9441369myqc6m_xgm0000gn/T/ipykernel_9537/221119822.py\u001b[0m in \u001b[0;36m<module>\u001b[0;34m\u001b[0m\n\u001b[0;32m----> 1\u001b[0;31m \u001b[0;32mimport\u001b[0m \u001b[0mpandas\u001b[0m\u001b[0;34m\u001b[0m\u001b[0;34m\u001b[0m\u001b[0m\n\u001b[0m\u001b[1;32m      2\u001b[0m \u001b[0;31m# carregando iris.csv\u001b[0m\u001b[0;34m\u001b[0m\u001b[0;34m\u001b[0m\u001b[0m\n\u001b[1;32m      3\u001b[0m \u001b[0mdados\u001b[0m \u001b[0;34m=\u001b[0m \u001b[0mpandas\u001b[0m\u001b[0;34m.\u001b[0m\u001b[0mread_csv\u001b[0m\u001b[0;34m(\u001b[0m\u001b[0;34m'iris.csv'\u001b[0m\u001b[0;34m)\u001b[0m\u001b[0;34m\u001b[0m\u001b[0;34m\u001b[0m\u001b[0m\n\u001b[1;32m      4\u001b[0m \u001b[0;31m# imprimindo os dez primeiros exemplos da base de dados\u001b[0m\u001b[0;34m\u001b[0m\u001b[0;34m\u001b[0m\u001b[0m\n\u001b[1;32m      5\u001b[0m \u001b[0mprint\u001b[0m\u001b[0;34m(\u001b[0m\u001b[0mdados\u001b[0m\u001b[0;34m.\u001b[0m\u001b[0mhead\u001b[0m\u001b[0;34m(\u001b[0m\u001b[0;36m10\u001b[0m\u001b[0;34m)\u001b[0m\u001b[0;34m)\u001b[0m\u001b[0;34m\u001b[0m\u001b[0;34m\u001b[0m\u001b[0m\n",
      "\u001b[0;31mModuleNotFoundError\u001b[0m: No module named 'pandas'"
     ]
    }
   ],
   "source": [
    "import pandas\n",
    "# carregando iris.csv\n",
    "dados = pandas.read_csv('iris.csv')\n",
    "# imprimindo os dez primeiros exemplos da base de dados\n",
    "print(dados.head(10))"
   ]
  },
  {
   "cell_type": "code",
   "execution_count": null,
   "metadata": {},
   "outputs": [],
   "source": [
    "# calculando a media para todos os atributos\n",
    "print(\"Média\")\n",
    "print(dados.mean())\n",
    "# calculando a mediana para todos os atributos\n",
    "print(\"Mediana\")\n",
    "print(dados.median())\n",
    "# calculando percentil 15% para todos os atributos\n",
    "print(\"Percentil\")\n",
    "print(dados.quantile(0.15))\n",
    "# calculando o intervalo para todos os atributos\n",
    "print(\"Intervalos\")\n",
    "print(dados.max(numeric_only=True) - dados.min(numeric_only=True))\n",
    "# calculando a variancia para todos os atributos\n",
    "print(\"Variancia\")\n",
    "print(dados.var())\n",
    "# calculando o desvio-padrao para todos os atributos\n",
    "# (na biblioteca pandas, ddof=1 por padrao)\n",
    "print(\"Desvio Padrão\")\n",
    "print(dados.std())"
   ]
  },
  {
   "cell_type": "code",
   "execution_count": null,
   "metadata": {},
   "outputs": [],
   "source": [
    "print(dados.head(10))\n",
    "dados.dropna().describe()"
   ]
  },
  {
   "cell_type": "code",
   "execution_count": null,
   "metadata": {
    "scrolled": true
   },
   "outputs": [],
   "source": [
    "from matplotlib import pyplot\n",
    "# criando um dicionario para mapear cada classe para uma cor\n",
    "classe_cor = {'Setosa' : 'red',\n",
    "'Virginica' : 'blue',\n",
    "'Versicolor' : 'green'}\n",
    "# criando uma lista com as cores de cada exemplo\n",
    "cores = [classe_cor[nome] for nome in dados['variety']]\n",
    "\n",
    "#colormap = {'setosa': 'red', 'versicolor': 'green', 'virginica': 'blue'}\n",
    "#colors = [colormap[x] for x in flowers['species']]\n",
    "# gerando scatter plot\n",
    "# no eixo x sera plotado o tamanho da sepala\n",
    "# no eixo y sera plotado o comprimento da sepala\n",
    "dados.plot(kind='scatter', x='sepal.length', y='sepal.width', c=cores)\n",
    "pyplot.show()"
   ]
  },
  {
   "cell_type": "code",
   "execution_count": null,
   "metadata": {},
   "outputs": [],
   "source": [
    "dados.plot(kind='scatter', x='petal.length', y='petal.width', c=cores)\n",
    "pyplot.show()"
   ]
  },
  {
   "cell_type": "code",
   "execution_count": null,
   "metadata": {},
   "outputs": [],
   "source": [
    "dados.plot(kind='scatter', x='sepal.length', y='petal.length', c=cores)\n",
    "pyplot.show()"
   ]
  },
  {
   "cell_type": "code",
   "execution_count": null,
   "metadata": {},
   "outputs": [],
   "source": [
    "# gerando bloxplot para os atributos da Iris\n",
    "dados.plot(kind='box')\n",
    "pyplot.show()"
   ]
  }
 ],
 "metadata": {
  "kernelspec": {
   "display_name": "Python 3 (ipykernel)",
   "language": "python",
   "name": "python3"
  },
  "language_info": {
   "codemirror_mode": {
    "name": "ipython",
    "version": 3
   },
   "file_extension": ".py",
   "mimetype": "text/x-python",
   "name": "python",
   "nbconvert_exporter": "python",
   "pygments_lexer": "ipython3",
   "version": "3.9.7"
  }
 },
 "nbformat": 4,
 "nbformat_minor": 4
}
