{
 "cells": [
  {
   "cell_type": "code",
   "execution_count": 3,
   "metadata": {
    "pycharm": {
     "name": "#%%\n"
    }
   },
   "outputs": [
    {
     "name": "stdout",
     "output_type": "stream",
     "text": [
      "[11  8 25  2  7 29 19 29  2  2]\n",
      "13.4\n",
      "Média =  13.4\n",
      "mediana = 9.5\n",
      "[11  8 25  2  7 29 19 29  2  2]\n",
      "A Moda é [2]\n",
      "[2]\n"
     ]
    }
   ],
   "source": [
    "import scipy\n",
    "import numpy\n",
    "# gerando um array com 10 valores aleatorios\n",
    "# sorteados entre 0 e 100\n",
    "\n",
    "from scipy import stats\n",
    "\n",
    "x = numpy.random.randint(low=0, high=30, size=10)\n",
    "# calculando a media utilizando os metodos\n",
    "# numpy.sum e len\n",
    "print(x)\n",
    "media = numpy.sum(x) / len(x)\n",
    "print(media)\n",
    "# mais facilmente, podemos utilizar o metodo numpy.mean\n",
    "media = numpy.mean(x)\n",
    "print(\"Média = \",media)\n",
    "#usando o método numpy.median para o cálculo da mediana\n",
    "mediana = numpy.median(x)\n",
    "print(\"mediana =\" , mediana)\n",
    "print(x)\n",
    "mode = scipy.stats.mode(x)\n",
    "print(\"A Moda é {}\".format(mode[0]))\n",
    "print(mode[0])"
   ]
  }
 ],
 "metadata": {
  "kernelspec": {
   "display_name": "Python 3 (ipykernel)",
   "language": "python",
   "name": "python3"
  },
  "language_info": {
   "codemirror_mode": {
    "name": "ipython",
    "version": 3
   },
   "file_extension": ".py",
   "mimetype": "text/x-python",
   "name": "python",
   "nbconvert_exporter": "python",
   "pygments_lexer": "ipython3",
   "version": "3.9.7"
  }
 },
 "nbformat": 4,
 "nbformat_minor": 4
}